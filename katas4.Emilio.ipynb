{
 "cells": [
  {
   "cell_type": "markdown",
   "metadata": {},
   "source": [
    "## Ejercicio 1"
   ]
  },
  {
   "cell_type": "code",
   "execution_count": 89,
   "metadata": {},
   "outputs": [],
   "source": [
    "# División de texto\n",
    "\n",
    "texto = \"\"\"Interesting facts about the Moon.\\nThe Moon is Earths only satellite.\\nThere are several interesting facts about the Moon and how it affects life here on Earth.\\nOn average, the Moon moves 4cm away from the Earth every year.\\nThis yearly drift is not significant enough to cause immediate effects on Earth.\\nThe highest daylight temperature of the Moon is 127 C.\"\"\"\n",
    "txt_partes = texto.split('. ')"
   ]
  },
  {
   "cell_type": "code",
   "execution_count": 72,
   "metadata": {},
   "outputs": [],
   "source": [
    "#Palabras clave\n",
    "        \n",
    "Palabras = [\"average\", \"temperature\", \"distance\"]"
   ]
  },
  {
   "cell_type": "code",
   "execution_count": 90,
   "metadata": {},
   "outputs": [
    {
     "name": "stdout",
     "output_type": "stream",
     "text": [
      "average\n",
      "temperature\n"
     ]
    }
   ],
   "source": [
    "#For recorrer cadena\n",
    "\n",
    "for txt in txt_partes:\n",
    "    for Palabra in Palabras:\n",
    "       if Palabra in txt:\n",
    "        print(Palabra)\n",
    "    break"
   ]
  },
  {
   "cell_type": "code",
   "execution_count": 154,
   "metadata": {},
   "outputs": [
    {
     "name": "stdout",
     "output_type": "stream",
     "text": [
      "Interesting facts about the Moon.\n",
      "The Moon is Earths only satellite.\n",
      "There are several interesting facts about the Moon and how it affects life here on Earth.\n",
      "On average, the Moon moves 4cm away from the Earth every year.\n",
      "This yearly drift is not significant enough to cause immediate effects on Earth.\n",
      "The highest daylight temperature of the Moon is 127 Celcius.\n"
     ]
    }
   ],
   "source": [
    "#Ciclo cambio a Celcius\n",
    "\n",
    "for txt in txt_partes:\n",
    "    for Palabra in Palabra:\n",
    "        if Palabra in txt:\n",
    "          print(txt.replace('C','Celcius'))\n",
    "          break"
   ]
  },
  {
   "cell_type": "markdown",
   "metadata": {},
   "source": [
    "# Ejercicio 2"
   ]
  },
  {
   "cell_type": "code",
   "execution_count": 129,
   "metadata": {},
   "outputs": [],
   "source": [
    "# Datos de trabajo\n",
    "\n",
    "nombre = \"Moon\"\n",
    "gravedad = 0.00162 #km\n",
    "planeta = \"Earth\"\n"
   ]
  },
  {
   "cell_type": "code",
   "execution_count": 131,
   "metadata": {},
   "outputs": [],
   "source": [
    "# Título\n",
    "\n",
    "title = f'Datos de gravedad {nombre}'"
   ]
  },
  {
   "cell_type": "code",
   "execution_count": 135,
   "metadata": {},
   "outputs": [],
   "source": [
    "# Plantilla\n",
    "\n",
    "hechos = f\"\"\"{'-'*80}\n",
    "nombre del planeta: {planeta}\n",
    "Gravedad en {nombre}: {gravedad * 1000} m/s2\"\"\"\n"
   ]
  },
  {
   "cell_type": "code",
   "execution_count": 149,
   "metadata": {},
   "outputs": [
    {
     "name": "stdout",
     "output_type": "stream",
     "text": [
      "Datos de gravedad Moon\n",
      "--------------------------------------------------------------------------------\n",
      "nombre del planeta: Earth\n",
      "Gravedad en Moon: 1.6199999999999999 m/s2\n"
     ]
    }
   ],
   "source": [
    "# Unión de las cadenas\n",
    "\n",
    "print(title)\n",
    "print(hechos)\n"
   ]
  },
  {
   "cell_type": "code",
   "execution_count": 150,
   "metadata": {},
   "outputs": [],
   "source": [
    "# Nuevos datos\n",
    "\n",
    "nombre = \"Ganímedes\"\n",
    "gravedad = 0.00143 #km\n",
    "planeta = \"Marte\""
   ]
  },
  {
   "cell_type": "code",
   "execution_count": 152,
   "metadata": {},
   "outputs": [
    {
     "name": "stdout",
     "output_type": "stream",
     "text": [
      "Datos de gravedad Moon\n",
      "--------------------------------------------------------------------------------\n",
      "nombre del planeta: Earth\n",
      "Gravedad en Moon: 1.6199999999999999 m/s2\n"
     ]
    }
   ],
   "source": [
    "# Comprobación plantilla\n",
    "print(title)\n",
    "print(hechos)"
   ]
  }
 ],
 "metadata": {
  "interpreter": {
   "hash": "352953fbc0519f3a74edb94c701191dea11ffb9c465ed16a7f77888173ef3801"
  },
  "kernelspec": {
   "display_name": "Python 3.10.2 64-bit",
   "language": "python",
   "name": "python3"
  },
  "language_info": {
   "codemirror_mode": {
    "name": "ipython",
    "version": 3
   },
   "file_extension": ".py",
   "mimetype": "text/x-python",
   "name": "python",
   "nbconvert_exporter": "python",
   "pygments_lexer": "ipython3",
   "version": "3.10.2"
  },
  "orig_nbformat": 4
 },
 "nbformat": 4,
 "nbformat_minor": 2
}
