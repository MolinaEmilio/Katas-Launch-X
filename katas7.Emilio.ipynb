{
 "cells": [
  {
   "cell_type": "markdown",
   "metadata": {},
   "source": [
    "## Ejercicio 1"
   ]
  },
  {
   "cell_type": "code",
   "execution_count": 45,
   "metadata": {},
   "outputs": [],
   "source": [
    "# Declaración Variables\n",
    "\n",
    "new_planet = ''\n",
    "Planetas = []"
   ]
  },
  {
   "cell_type": "code",
   "execution_count": 47,
   "metadata": {},
   "outputs": [],
   "source": [
    "# Ciclo while\n",
    "\n",
    "while new_planet.lower() != 'done' :\n",
    "    if new_planet:\n",
    "        Planetas.append(new_planet)\n",
    "    new_planet = input('Enter a new planet')\n",
    "    "
   ]
  },
  {
   "cell_type": "markdown",
   "metadata": {},
   "source": [
    "## Ejercicio 2"
   ]
  },
  {
   "cell_type": "code",
   "execution_count": 48,
   "metadata": {},
   "outputs": [
    {
     "name": "stdout",
     "output_type": "stream",
     "text": [
      "['Mercurio', 'Venus', 'Tierra']\n",
      "['Mercurio', 'Venus', 'Tierra']\n",
      "['Mercurio', 'Venus', 'Tierra']\n"
     ]
    }
   ],
   "source": [
    "# Ciclo for para planetas\n",
    "\n",
    "for planeta in Planetas:\n",
    "    print(Planetas)"
   ]
  }
 ],
 "metadata": {
  "interpreter": {
   "hash": "352953fbc0519f3a74edb94c701191dea11ffb9c465ed16a7f77888173ef3801"
  },
  "kernelspec": {
   "display_name": "Python 3.10.2 64-bit",
   "language": "python",
   "name": "python3"
  },
  "language_info": {
   "codemirror_mode": {
    "name": "ipython",
    "version": 3
   },
   "file_extension": ".py",
   "mimetype": "text/x-python",
   "name": "python",
   "nbconvert_exporter": "python",
   "pygments_lexer": "ipython3",
   "version": "3.10.2"
  },
  "orig_nbformat": 4
 },
 "nbformat": 4,
 "nbformat_minor": 2
}
