{
 "cells": [
  {
   "cell_type": "markdown",
   "metadata": {},
   "source": [
    "## Ejercicios - Declaraciones if, else y elif"
   ]
  },
  {
   "cell_type": "code",
   "execution_count": 35,
   "metadata": {},
   "outputs": [
    {
     "name": "stdout",
     "output_type": "stream",
     "text": [
      "Advertencia velocidad de asteroide elevada\n"
     ]
    }
   ],
   "source": [
    "# Ejercicio 1 (Escenario malo)\n",
    "\n",
    "Velocidadasteroide = 35\n",
    "\n",
    "if Velocidadasteroide > 25:\n",
    "     print('Advertencia velocidad de asteroide elevada')\n",
    "else:\n",
    "     print('Velocidad normal')"
   ]
  },
  {
   "cell_type": "code",
   "execution_count": 36,
   "metadata": {},
   "outputs": [
    {
     "name": "stdout",
     "output_type": "stream",
     "text": [
      "Velocidad normal\n"
     ]
    }
   ],
   "source": [
    "# Ejercicio 1 (Escenario bueno)\n",
    "\n",
    "Velocidadasteroide = 18\n",
    "\n",
    "if Velocidadasteroide > 25:\n",
    "     print('Advertencia velocidad de asteroide elevada')\n",
    "else:\n",
    "     print('Velocidad normal')"
   ]
  },
  {
   "cell_type": "code",
   "execution_count": 37,
   "metadata": {},
   "outputs": [
    {
     "name": "stdout",
     "output_type": "stream",
     "text": [
      "Asteroide visible en el cielo\n"
     ]
    }
   ],
   "source": [
    "# Ejercicio 2 (Escenario malo)\n",
    "\n",
    "Velocidadasteroide = 25\n",
    "\n",
    "if Velocidadasteroide > 20:\n",
    "    print ('Asteroide visible en el cielo')\n",
    "\n",
    "elif Velocidadasteroide == 20:\n",
    "    print ('Asteroide visible en el cielo')\n",
    "else:\n",
    "    print ('Cielo despejado')\n",
    "\n"
   ]
  },
  {
   "cell_type": "code",
   "execution_count": 38,
   "metadata": {},
   "outputs": [
    {
     "name": "stdout",
     "output_type": "stream",
     "text": [
      "Cielo despejado\n"
     ]
    }
   ],
   "source": [
    "# Ejercicio 2 (Escenario bueno)\n",
    "\n",
    "Velocidadasteroide = 19\n",
    "\n",
    "if Velocidadasteroide > 20:\n",
    "    print ('Asteroide visible en el cielo')\n",
    "\n",
    "elif Velocidadasteroide == 20:\n",
    "    print ('Asteroide visible en el cielo')\n",
    "else:\n",
    "    print ('Cielo despejado')\n"
   ]
  },
  {
   "cell_type": "code",
   "execution_count": 39,
   "metadata": {},
   "outputs": [
    {
     "name": "stdout",
     "output_type": "stream",
     "text": [
      "Advertencia, asteroide peligroso\n"
     ]
    }
   ],
   "source": [
    "# Ejercicio 3 (Escenario 1)\n",
    "\n",
    "Velocidadasteroide = 100\n",
    "Tamanoasteroide = 100\n",
    "\n",
    "if Velocidadasteroide > 25 and Tamanoasteroide > 25:\n",
    "    print ('Advertencia, asteroide peligroso')\n",
    "\n",
    "elif Velocidadasteroide >=20:\n",
    "    print ('Asteoride visible en el cielo')\n",
    "elif Tamanoasteroide <25:\n",
    "    print ('Todo normal')\n",
    "else:\n",
    "    print ('Todo normal')"
   ]
  },
  {
   "cell_type": "code",
   "execution_count": 40,
   "metadata": {},
   "outputs": [
    {
     "name": "stdout",
     "output_type": "stream",
     "text": [
      "Asteoride visible en el cielo\n"
     ]
    }
   ],
   "source": [
    "# Ejercicio 3 (Escenario 2)\n",
    "\n",
    "Velocidadasteroide = 25\n",
    "Tamanoasteroide = 100\n",
    "\n",
    "if Velocidadasteroide > 25 and Tamanoasteroide > 25:\n",
    "    print ('Advertencia, asteroide peligroso')\n",
    "\n",
    "elif Velocidadasteroide >=20:\n",
    "    print ('Asteoride visible en el cielo')\n",
    "elif Tamanoasteroide <25:\n",
    "    print ('Todo normal')\n",
    "else:\n",
    "    print ('Todo normal')"
   ]
  },
  {
   "cell_type": "code",
   "execution_count": 41,
   "metadata": {},
   "outputs": [
    {
     "name": "stdout",
     "output_type": "stream",
     "text": [
      "Todo normal\n"
     ]
    }
   ],
   "source": [
    "# Ejercicio 3 (Escenario 3)\n",
    "\n",
    "Velocidadasteroide = 19\n",
    "Tamanoasteroide = 20\n",
    "\n",
    "if Velocidadasteroide > 25 and Tamanoasteroide > 25:\n",
    "    print ('Advertencia, asteroide peligroso')\n",
    "\n",
    "elif Velocidadasteroide >=20:\n",
    "    print ('Asteoride visible en el cielo')\n",
    "elif Tamanoasteroide <25:\n",
    "    print ('Todo normal')\n",
    "else:\n",
    "    print ('Todo normal')"
   ]
  },
  {
   "cell_type": "code",
   "execution_count": 42,
   "metadata": {},
   "outputs": [
    {
     "name": "stdout",
     "output_type": "stream",
     "text": [
      "Advertencia, asteroide peligroso\n"
     ]
    }
   ],
   "source": [
    "# Ejercicio 3 (Escenario con or | Tamaño execido pero velocidad inferior)\n",
    "\n",
    "Velocidadasteroide = 10\n",
    "Tamanoasteroide = 200\n",
    "\n",
    "if Velocidadasteroide > 25 or Tamanoasteroide > 25:\n",
    "    print ('Advertencia, asteroide peligroso')\n",
    "\n",
    "elif Velocidadasteroide >=20:\n",
    "    print ('Asteoride visible en el cielo')\n",
    "elif Tamanoasteroide <25:\n",
    "    print ('Todo normal')\n",
    "else:\n",
    "    print ('Todo normal')"
   ]
  }
 ],
 "metadata": {
  "interpreter": {
   "hash": "352953fbc0519f3a74edb94c701191dea11ffb9c465ed16a7f77888173ef3801"
  },
  "kernelspec": {
   "display_name": "Python 3.10.2 64-bit",
   "language": "python",
   "name": "python3"
  },
  "language_info": {
   "codemirror_mode": {
    "name": "ipython",
    "version": 3
   },
   "file_extension": ".py",
   "mimetype": "text/x-python",
   "name": "python",
   "nbconvert_exporter": "python",
   "pygments_lexer": "ipython3",
   "version": "3.10.2"
  },
  "orig_nbformat": 4
 },
 "nbformat": 4,
 "nbformat_minor": 2
}
